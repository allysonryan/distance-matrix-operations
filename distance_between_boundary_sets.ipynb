{
 "cells": [
  {
   "cell_type": "code",
   "execution_count": 1,
   "id": "00dff5f9",
   "metadata": {},
   "outputs": [],
   "source": [
    "### required imports\n",
    "\n",
    "from __future__ import division, print_function\n",
    "\n",
    "import os\n",
    "import numpy as np\n",
    "import networkx as nx\n",
    "from itertools import combinations\n",
    "from skimage.morphology import skeletonize\n",
    "from skimage.segmentation import find_boundaries\n",
    "\n",
    "import distance_matrix_functions as dmf\n",
    "\n",
    "import stackview\n",
    "import matplotlib.pyplot as plt\n",
    "%matplotlib inline"
   ]
  },
  {
   "cell_type": "markdown",
   "id": "fbd3ea38",
   "metadata": {},
   "source": [
    "# Generate example dataset:"
   ]
  },
  {
   "cell_type": "code",
   "execution_count": 2,
   "id": "b57d4bb1",
   "metadata": {},
   "outputs": [
    {
     "data": {
      "application/vnd.jupyter.widget-view+json": {
       "model_id": "62261733238d41a69d341d2aa0635fcb",
       "version_major": 2,
       "version_minor": 0
      },
      "text/plain": [
       "VBox(children=(HBox(children=(VBox(children=(ImageWidget(height=400, width=400),)),)), IntSlider(value=100, de…"
      ]
     },
     "execution_count": 2,
     "metadata": {},
     "output_type": "execute_result"
    }
   ],
   "source": [
    "container_image = np.zeros((200, 200, 200), dtype=int)\n",
    "n_nuclei = 300\n",
    "\n",
    "stackview.slice(container_image, zoom_factor = 2) #this should show an empty 3d image"
   ]
  },
  {
   "cell_type": "code",
   "execution_count": 3,
   "id": "59d27e30",
   "metadata": {},
   "outputs": [
    {
     "data": {
      "application/vnd.jupyter.widget-view+json": {
       "model_id": "2653ed07d4484b889e6a6903b12ebf87",
       "version_major": 2,
       "version_minor": 0
      },
      "text/plain": [
       "VBox(children=(HBox(children=(VBox(children=(ImageWidget(height=400, width=400),)),)), IntSlider(value=100, de…"
      ]
     },
     "execution_count": 3,
     "metadata": {},
     "output_type": "execute_result"
    }
   ],
   "source": [
    "dataset = dmf.create_synthetic_dataset(container_image, n_nuclei)\n",
    "stackview.slice(dataset, zoom_factor = 2) #this will now should some spare nuclei"
   ]
  },
  {
   "cell_type": "markdown",
   "id": "48f324db",
   "metadata": {},
   "source": [
    "# Extract boundary sets of each nucleus:"
   ]
  },
  {
   "cell_type": "code",
   "execution_count": 4,
   "id": "f50c8cc3",
   "metadata": {},
   "outputs": [
    {
     "data": {
      "text/plain": [
       "array([ 1,  2,  3,  4,  5,  6,  7,  8,  9, 10, 11, 12, 13, 14, 15, 16, 17,\n",
       "       18, 19, 20, 21, 22, 23, 24, 25, 26, 27, 28, 29, 30, 31, 32])"
      ]
     },
     "execution_count": 4,
     "metadata": {},
     "output_type": "execute_result"
    }
   ],
   "source": [
    "segment_ids = np.unique(dataset)\n",
    "segment_ids = segment_ids[segment_ids > 0]\n",
    "segment_ids"
   ]
  },
  {
   "cell_type": "code",
   "execution_count": 5,
   "id": "ce6eb18e",
   "metadata": {},
   "outputs": [
    {
     "data": {
      "text/plain": [
       "32"
      ]
     },
     "execution_count": 5,
     "metadata": {},
     "output_type": "execute_result"
    }
   ],
   "source": [
    "n_objects = segment_ids.shape[0]\n",
    "n_objects"
   ]
  },
  {
   "cell_type": "code",
   "execution_count": 6,
   "id": "fe127a8a",
   "metadata": {},
   "outputs": [
    {
     "data": {
      "application/vnd.jupyter.widget-view+json": {
       "model_id": "25d5830f04004185bc4836a5bda23d41",
       "version_major": 2,
       "version_minor": 0
      },
      "text/plain": [
       "VBox(children=(HBox(children=(VBox(children=(ImageWidget(height=400, width=400),)),)), IntSlider(value=100, de…"
      ]
     },
     "execution_count": 6,
     "metadata": {},
     "output_type": "execute_result"
    }
   ],
   "source": [
    "boundaries = skeletonize(find_boundaries(dataset, mode = 'inner')).astype(int)\n",
    "boundaries = boundaries / np.amax(boundaries)\n",
    "boundaries = boundaries.astype(int)\n",
    "stackview.slice(boundaries, zoom_factor = 2)"
   ]
  },
  {
   "cell_type": "code",
   "execution_count": 7,
   "id": "002375ad",
   "metadata": {},
   "outputs": [
    {
     "data": {
      "application/vnd.jupyter.widget-view+json": {
       "model_id": "52ea5625687d456883d8065150747910",
       "version_major": 2,
       "version_minor": 0
      },
      "text/plain": [
       "VBox(children=(HBox(children=(VBox(children=(ImageWidget(height=400, width=400),)),)), IntSlider(value=100, de…"
      ]
     },
     "execution_count": 7,
     "metadata": {},
     "output_type": "execute_result"
    }
   ],
   "source": [
    "index_boundaries = np.copy(boundaries)\n",
    "index_boundaries[index_boundaries > 0] = dataset[index_boundaries > 0]\n",
    "stackview.slice(index_boundaries, zoom_factor = 2)"
   ]
  },
  {
   "cell_type": "code",
   "execution_count": 8,
   "id": "d9b9fabc",
   "metadata": {},
   "outputs": [
    {
     "data": {
      "text/plain": [
       "(754, 3)"
      ]
     },
     "execution_count": 8,
     "metadata": {},
     "output_type": "execute_result"
    }
   ],
   "source": [
    "coordinate_sets = [np.asarray(np.where(index_boundaries==i)).T for i in segment_ids]\n",
    "coordinate_sets[0].shape"
   ]
  },
  {
   "cell_type": "code",
   "execution_count": 9,
   "id": "40ee47a6",
   "metadata": {},
   "outputs": [
    {
     "data": {
      "text/plain": [
       "(496, (0, 1))"
      ]
     },
     "execution_count": 9,
     "metadata": {},
     "output_type": "execute_result"
    }
   ],
   "source": [
    "index_pairs = dmf.find_all_index_tuples(n_objects, tuple_size=2)\n",
    "(len(index_pairs), index_pairs[0])"
   ]
  },
  {
   "cell_type": "code",
   "execution_count": 10,
   "id": "f49826f5",
   "metadata": {},
   "outputs": [
    {
     "data": {
      "text/plain": [
       "(496, (1, 2))"
      ]
     },
     "execution_count": 10,
     "metadata": {},
     "output_type": "execute_result"
    }
   ],
   "source": [
    "segment_id_pairs = [(segment_ids[i[0]], segment_ids[i[1]]) for i in index_pairs]\n",
    "(len(segment_id_pairs), segment_id_pairs[0])"
   ]
  },
  {
   "cell_type": "markdown",
   "id": "b30e94fa",
   "metadata": {},
   "source": [
    "# Find distance matrices:"
   ]
  },
  {
   "cell_type": "code",
   "execution_count": 11,
   "id": "a1d5066e",
   "metadata": {},
   "outputs": [
    {
     "data": {
      "text/plain": [
       "496"
      ]
     },
     "execution_count": 11,
     "metadata": {},
     "output_type": "execute_result"
    }
   ],
   "source": [
    "distance_matrices = [0] * len(index_pairs)\n",
    "\n",
    "counter = 0\n",
    "for i in index_pairs:\n",
    "    \n",
    "    i_a = i[0]\n",
    "    i_b = i[1]\n",
    "    \n",
    "    i_dist_matrix = dmf.determine_distance_between_two_closed_boundaries(coordinate_sets[i_a], \n",
    "                                                                     coordinate_sets[i_b])\n",
    "    distance_matrices[counter] = i_dist_matrix\n",
    "    counter += 1\n",
    "    \n",
    "len(distance_matrices)"
   ]
  },
  {
   "cell_type": "markdown",
   "id": "5ea8c4a1",
   "metadata": {},
   "source": [
    "# Find minimum distances & corresponding points:"
   ]
  },
  {
   "cell_type": "code",
   "execution_count": 12,
   "id": "abaf75c7",
   "metadata": {},
   "outputs": [
    {
     "data": {
      "image/png": "[encoded data removed]",
      "text/plain": [
       "<Figure size 640x480 with 1 Axes>"
      ]
     },
     "metadata": {},
     "output_type": "display_data"
    }
   ],
   "source": [
    "minimum_distances = [0] * len(index_pairs)\n",
    "point_pair_indices = [0] * len(index_pairs)\n",
    "\n",
    "counter = 0\n",
    "for i in distance_matrices:\n",
    "    \n",
    "    i_min_dist, i_pt_pair_idx = dmf.find_minimum_distance_and_points(i)\n",
    "    \n",
    "    minimum_distances[counter] = i_min_dist\n",
    "    point_pair_indices[counter] = point_pair_indices\n",
    "    \n",
    "    counter += 1\n",
    "    \n",
    "plt.hist(minimum_distances)\n",
    "plt.show()"
   ]
  }
 ],
 "metadata": {
  "kernelspec": {
   "display_name": "Python 3 (ipykernel)",
   "language": "python",
   "name": "python3"
  },
  "language_info": {
   "codemirror_mode": {
    "name": "ipython",
    "version": 3
   },
   "file_extension": ".py",
   "mimetype": "text/x-python",
   "name": "python",
   "nbconvert_exporter": "python",
   "pygments_lexer": "ipython3",
   "version": "3.9.16"
  }
 },
 "nbformat": 4,
 "nbformat_minor": 5
}
